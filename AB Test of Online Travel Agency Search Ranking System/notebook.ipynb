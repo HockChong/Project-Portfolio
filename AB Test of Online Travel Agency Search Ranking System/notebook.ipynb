{
 "cells": [
  {
   "cell_type": "markdown",
   "id": "762aa00d-7c86-4831-bb4d-91fe6543b523",
   "metadata": {},
   "source": [
    "![ab_testing_image](ab_testing_image.jpg)"
   ]
  },
  {
   "cell_type": "markdown",
   "id": "18d9458a-8243-4d6e-ba20-6fe91ef5f395",
   "metadata": {},
   "source": [
    "As a Data Scientist at a leading online travel agency, you’ve been tasked with evaluating the impact of a new search ranking algorithm designed to improve conversion rates. The Product team is considering a full rollout, but only if the experiment shows a clear positive effect on the conversion rate and does not lead to a longer time to book.\n",
    "\n",
    "They have shared A/B test datasets with session-level booking data (`\"sessions_data.csv\"`) and user-level control/variant split (`\"users_data.csv\"`). Your job is to analyze and interpret the results to determine whether the new ranking system delivers a statistically significant improvement and provide a clear, data-driven recommendation."
   ]
  },
  {
   "cell_type": "markdown",
   "id": "2f65412a-89d7-4e97-887b-e9a053c77fb3",
   "metadata": {},
   "source": [
    "## `sessions_data.csv`\n",
    "\n",
    "| column | data type | description | \n",
    "|--------|-----------|-------------|\n",
    "| `session_id` | `string` | Unique session identifier (unique for each row) |\n",
    "| `user_id` | `string` | Unique user identifier (non logged-in users have missing user_id values; each user can have multiple sessions) |\n",
    "| `session_start_timestamp` | `string` | When a session started |\n",
    "| `booking_timestamp` | `string` | When a booking was made (missing if no booking was made during a session) |\n",
    "| `time_to_booking` | `float` | time from start of the session to booking, in minutes (missing if no booking was made during a session) |\n",
    "| `conversion` | `integer` | _New column to create:_ did session end up with a booking (0 if booking_timestamp or time_to_booking is Null, otherwise 1) |\n",
    "\n",
    "<br>\n",
    "\n",
    "## `users_data.csv`\n",
    "\n",
    "| column | data type | description | \n",
    "|--------|-----------|-------------|\n",
    "| `user_id` | `string` | Unique user identifier (only logged-in users in this table) |\n",
    "| `experiment_group` | `string` | control / variant split for the experiment (expected to be equal 50/50) |\n",
    "\n",
    "<br>"
   ]
  },
  {
   "cell_type": "markdown",
   "id": "025aae0a-098c-4c57-aa20-f4a1ab0d170c",
   "metadata": {},
   "source": [
    "The full on criteria are the following:\n",
    "- Primary metric (conversion) effect must be statistically significant and show positive effect (increase).\n",
    "- Guardrail (time_to_booking) effect must either be statistically insignificant or show positive effect (decrease)"
   ]
  },
  {
   "cell_type": "code",
   "execution_count": 3,
   "id": "45255f2c-da76-489d-9c20-41a721b1a5c9",
   "metadata": {
    "executionCancelledAt": null,
    "executionTime": 51,
    "lastExecutedAt": 1745504594578,
    "lastExecutedByKernel": "a0a85a19-887a-4c9c-a90a-56e3502e9255",
    "lastScheduledRunId": null,
    "lastSuccessfullyExecutedCode": "import pandas as pd\nfrom scipy.stats import chisquare\nfrom pingouin import ttest\nfrom statsmodels.stats.proportion import proportions_ztest"
   },
   "outputs": [],
   "source": [
    "# Import library\n",
    "import pandas as pd\n",
    "from scipy.stats import chisquare\n",
    "from pingouin import ttest\n",
    "from statsmodels.stats.proportion import proportions_ztest"
   ]
  },
  {
   "cell_type": "code",
   "execution_count": 4,
   "id": "b75a00ff-f36b-496e-a7ed-fb6d7be5a4c0",
   "metadata": {
    "executionCancelledAt": null,
    "executionTime": 51,
    "lastExecutedAt": 1745504594629,
    "lastExecutedByKernel": "a0a85a19-887a-4c9c-a90a-56e3502e9255",
    "lastScheduledRunId": null,
    "lastSuccessfullyExecutedCode": "confidence_level = 0.90  # Set the pre-defined confidence level (90%)\nalpha = 1 - confidence_level  # Significance level for hypothesis tests"
   },
   "outputs": [],
   "source": [
    "confidence_level = 0.90  # Set the pre-defined confidence level (90%)\n",
    "alpha = 1 - confidence_level  # Significance level for hypothesis tests"
   ]
  },
  {
   "cell_type": "code",
   "execution_count": 5,
   "id": "37259f36-1eba-4a7a-9984-21865280fef2",
   "metadata": {
    "executionCancelledAt": null,
    "executionTime": 65,
    "lastExecutedAt": 1745504884918,
    "lastExecutedByKernel": "a0a85a19-887a-4c9c-a90a-56e3502e9255",
    "lastScheduledRunId": null,
    "lastSuccessfullyExecutedCode": "sessions = pd.read_csv('sessions_data.csv')\nusers = pd.read_csv('users_data.csv')\nsessions_x_users = sessions.merge(users, how='left', on='user_id')\nsessions_x_users.head()",
    "outputsMetadata": {
     "0": {
      "height": 550,
      "tableState": {
       "customFilter": {
        "const": {
         "type": "boolean",
         "valid": true,
         "value": true
        },
        "id": "471f3420-5c91-405e-938e-500471d47b69",
        "nodeType": "const"
       }
      },
      "type": "dataFrame"
     }
    }
   },
   "outputs": [
    {
     "data": {
      "text/html": [
       "<div>\n",
       "<style scoped>\n",
       "    .dataframe tbody tr th:only-of-type {\n",
       "        vertical-align: middle;\n",
       "    }\n",
       "\n",
       "    .dataframe tbody tr th {\n",
       "        vertical-align: top;\n",
       "    }\n",
       "\n",
       "    .dataframe thead th {\n",
       "        text-align: right;\n",
       "    }\n",
       "</style>\n",
       "<table border=\"1\" class=\"dataframe\">\n",
       "  <thead>\n",
       "    <tr style=\"text-align: right;\">\n",
       "      <th></th>\n",
       "      <th>session_id</th>\n",
       "      <th>user_id</th>\n",
       "      <th>session_start_timestamp</th>\n",
       "      <th>booking_timestamp</th>\n",
       "      <th>time_to_booking</th>\n",
       "      <th>experiment_group</th>\n",
       "    </tr>\n",
       "  </thead>\n",
       "  <tbody>\n",
       "    <tr>\n",
       "      <th>0</th>\n",
       "      <td>CP0lbAGnb5UNi3Ut</td>\n",
       "      <td>TcCIMrtQ75wHGXVj</td>\n",
       "      <td>2025-01-26 20:02:39.177358627</td>\n",
       "      <td>NaN</td>\n",
       "      <td>NaN</td>\n",
       "      <td>variant</td>\n",
       "    </tr>\n",
       "    <tr>\n",
       "      <th>1</th>\n",
       "      <td>UQAjrPYair63L1p8</td>\n",
       "      <td>TcCIMrtQ75wHGXVj</td>\n",
       "      <td>2025-01-20 16:12:51.536912203</td>\n",
       "      <td>NaN</td>\n",
       "      <td>NaN</td>\n",
       "      <td>variant</td>\n",
       "    </tr>\n",
       "    <tr>\n",
       "      <th>2</th>\n",
       "      <td>9zQrAPxV5oi2SzSa</td>\n",
       "      <td>TcCIMrtQ75wHGXVj</td>\n",
       "      <td>2025-01-28 03:46:40.839362144</td>\n",
       "      <td>NaN</td>\n",
       "      <td>NaN</td>\n",
       "      <td>variant</td>\n",
       "    </tr>\n",
       "    <tr>\n",
       "      <th>3</th>\n",
       "      <td>kkrz1M5vxrQ8wXRZ</td>\n",
       "      <td>GUGVzto9KGqeX3dc</td>\n",
       "      <td>2025-01-25 02:48:50.953303099</td>\n",
       "      <td>NaN</td>\n",
       "      <td>NaN</td>\n",
       "      <td>variant</td>\n",
       "    </tr>\n",
       "    <tr>\n",
       "      <th>4</th>\n",
       "      <td>ABZZFrwItZAPdYGP</td>\n",
       "      <td>v2EBIHmOdQfalI6k</td>\n",
       "      <td>2025-01-11 11:41:36.912253618</td>\n",
       "      <td>NaN</td>\n",
       "      <td>NaN</td>\n",
       "      <td>variant</td>\n",
       "    </tr>\n",
       "  </tbody>\n",
       "</table>\n",
       "</div>"
      ],
      "text/plain": [
       "         session_id           user_id        session_start_timestamp  \\\n",
       "0  CP0lbAGnb5UNi3Ut  TcCIMrtQ75wHGXVj  2025-01-26 20:02:39.177358627   \n",
       "1  UQAjrPYair63L1p8  TcCIMrtQ75wHGXVj  2025-01-20 16:12:51.536912203   \n",
       "2  9zQrAPxV5oi2SzSa  TcCIMrtQ75wHGXVj  2025-01-28 03:46:40.839362144   \n",
       "3  kkrz1M5vxrQ8wXRZ  GUGVzto9KGqeX3dc  2025-01-25 02:48:50.953303099   \n",
       "4  ABZZFrwItZAPdYGP  v2EBIHmOdQfalI6k  2025-01-11 11:41:36.912253618   \n",
       "\n",
       "  booking_timestamp  time_to_booking experiment_group  \n",
       "0               NaN              NaN          variant  \n",
       "1               NaN              NaN          variant  \n",
       "2               NaN              NaN          variant  \n",
       "3               NaN              NaN          variant  \n",
       "4               NaN              NaN          variant  "
      ]
     },
     "execution_count": 5,
     "metadata": {},
     "output_type": "execute_result"
    }
   ],
   "source": [
    "# load the data\n",
    "sessions = pd.read_csv('sessions_data.csv')\n",
    "users = pd.read_csv('users_data.csv')\n",
    "# merge the data\n",
    "sessions_x_users = sessions.merge(users, how='inner', on='user_id')\n",
    "sessions_x_users.head()"
   ]
  },
  {
   "cell_type": "code",
   "execution_count": 6,
   "id": "35366753-dcdb-40ef-8b6f-900e5c868c37",
   "metadata": {
    "executionCancelledAt": null,
    "executionTime": 24,
    "lastExecutedAt": 1745504889372,
    "lastExecutedByKernel": "a0a85a19-887a-4c9c-a90a-56e3502e9255",
    "lastScheduledRunId": null,
    "lastSuccessfullyExecutedCode": "sessions_x_users.info()",
    "outputsMetadata": {
     "0": {
      "height": 290,
      "type": "stream"
     }
    }
   },
   "outputs": [
    {
     "name": "stdout",
     "output_type": "stream",
     "text": [
      "<class 'pandas.core.frame.DataFrame'>\n",
      "RangeIndex: 15283 entries, 0 to 15282\n",
      "Data columns (total 6 columns):\n",
      " #   Column                   Non-Null Count  Dtype  \n",
      "---  ------                   --------------  -----  \n",
      " 0   session_id               15283 non-null  object \n",
      " 1   user_id                  15283 non-null  object \n",
      " 2   session_start_timestamp  15283 non-null  object \n",
      " 3   booking_timestamp        2607 non-null   object \n",
      " 4   time_to_booking          2607 non-null   float64\n",
      " 5   experiment_group         15283 non-null  object \n",
      "dtypes: float64(1), object(5)\n",
      "memory usage: 716.5+ KB\n"
     ]
    }
   ],
   "source": [
    "sessions_x_users.info()"
   ]
  },
  {
   "cell_type": "code",
   "execution_count": 7,
   "id": "b849d8c9-2b32-4c14-ba2e-7864e66a18a7",
   "metadata": {
    "customType": "sql",
    "dataFrameVariableName": "df",
    "sqlCellMode": "dataFrame",
    "sqlSource": {
     "type": "none"
    }
   },
   "outputs": [
    {
     "data": {
      "text/html": [
       "<div>\n",
       "<style scoped>\n",
       "    .dataframe tbody tr th:only-of-type {\n",
       "        vertical-align: middle;\n",
       "    }\n",
       "\n",
       "    .dataframe tbody tr th {\n",
       "        vertical-align: top;\n",
       "    }\n",
       "\n",
       "    .dataframe thead th {\n",
       "        text-align: right;\n",
       "    }\n",
       "</style>\n",
       "<table border=\"1\" class=\"dataframe\">\n",
       "  <thead>\n",
       "    <tr style=\"text-align: right;\">\n",
       "      <th></th>\n",
       "      <th>session_id</th>\n",
       "      <th>user_id</th>\n",
       "      <th>session_start_timestamp</th>\n",
       "      <th>booking_timestamp</th>\n",
       "      <th>time_to_booking</th>\n",
       "      <th>experiment_group</th>\n",
       "      <th>conversion</th>\n",
       "    </tr>\n",
       "  </thead>\n",
       "  <tbody>\n",
       "    <tr>\n",
       "      <th>0</th>\n",
       "      <td>CP0lbAGnb5UNi3Ut</td>\n",
       "      <td>TcCIMrtQ75wHGXVj</td>\n",
       "      <td>2025-01-26 20:02:39.177358627</td>\n",
       "      <td>NaN</td>\n",
       "      <td>NaN</td>\n",
       "      <td>variant</td>\n",
       "      <td>0</td>\n",
       "    </tr>\n",
       "    <tr>\n",
       "      <th>1</th>\n",
       "      <td>UQAjrPYair63L1p8</td>\n",
       "      <td>TcCIMrtQ75wHGXVj</td>\n",
       "      <td>2025-01-20 16:12:51.536912203</td>\n",
       "      <td>NaN</td>\n",
       "      <td>NaN</td>\n",
       "      <td>variant</td>\n",
       "      <td>0</td>\n",
       "    </tr>\n",
       "    <tr>\n",
       "      <th>2</th>\n",
       "      <td>9zQrAPxV5oi2SzSa</td>\n",
       "      <td>TcCIMrtQ75wHGXVj</td>\n",
       "      <td>2025-01-28 03:46:40.839362144</td>\n",
       "      <td>NaN</td>\n",
       "      <td>NaN</td>\n",
       "      <td>variant</td>\n",
       "      <td>0</td>\n",
       "    </tr>\n",
       "    <tr>\n",
       "      <th>3</th>\n",
       "      <td>kkrz1M5vxrQ8wXRZ</td>\n",
       "      <td>GUGVzto9KGqeX3dc</td>\n",
       "      <td>2025-01-25 02:48:50.953303099</td>\n",
       "      <td>NaN</td>\n",
       "      <td>NaN</td>\n",
       "      <td>variant</td>\n",
       "      <td>0</td>\n",
       "    </tr>\n",
       "    <tr>\n",
       "      <th>4</th>\n",
       "      <td>ABZZFrwItZAPdYGP</td>\n",
       "      <td>v2EBIHmOdQfalI6k</td>\n",
       "      <td>2025-01-11 11:41:36.912253618</td>\n",
       "      <td>NaN</td>\n",
       "      <td>NaN</td>\n",
       "      <td>variant</td>\n",
       "      <td>0</td>\n",
       "    </tr>\n",
       "  </tbody>\n",
       "</table>\n",
       "</div>"
      ],
      "text/plain": [
       "         session_id           user_id        session_start_timestamp  \\\n",
       "0  CP0lbAGnb5UNi3Ut  TcCIMrtQ75wHGXVj  2025-01-26 20:02:39.177358627   \n",
       "1  UQAjrPYair63L1p8  TcCIMrtQ75wHGXVj  2025-01-20 16:12:51.536912203   \n",
       "2  9zQrAPxV5oi2SzSa  TcCIMrtQ75wHGXVj  2025-01-28 03:46:40.839362144   \n",
       "3  kkrz1M5vxrQ8wXRZ  GUGVzto9KGqeX3dc  2025-01-25 02:48:50.953303099   \n",
       "4  ABZZFrwItZAPdYGP  v2EBIHmOdQfalI6k  2025-01-11 11:41:36.912253618   \n",
       "\n",
       "  booking_timestamp  time_to_booking experiment_group  conversion  \n",
       "0               NaN              NaN          variant           0  \n",
       "1               NaN              NaN          variant           0  \n",
       "2               NaN              NaN          variant           0  \n",
       "3               NaN              NaN          variant           0  \n",
       "4               NaN              NaN          variant           0  "
      ]
     },
     "execution_count": 7,
     "metadata": {},
     "output_type": "execute_result"
    }
   ],
   "source": [
    "# Compute primary metrics\n",
    "sessions_x_users['conversion'] = sessions_x_users.apply(\n",
    "    lambda row: 0 if pd.isnull(row['booking_timestamp']) or pd.isnull(row['time_to_booking']) else 1, \n",
    "    axis=1\n",
    ")\n",
    "sessions_x_users.head(5)\n"
   ]
  },
  {
   "cell_type": "code",
   "execution_count": 8,
   "id": "603074b3",
   "metadata": {},
   "outputs": [
    {
     "data": {
      "text/plain": [
       "experiment_group\n",
       "variant    7653\n",
       "control    7630\n",
       "Name: count, dtype: int64"
      ]
     },
     "execution_count": 8,
     "metadata": {},
     "output_type": "execute_result"
    }
   ],
   "source": [
    "# Check if the number of users in each experiment group is balanced\n",
    "groups_count = sessions_x_users['experiment_group'].value_counts()\n",
    "groups_count"
   ]
  },
  {
   "cell_type": "markdown",
   "id": "be28233c",
   "metadata": {},
   "source": [
    "We perform a sanity check for Sample Ratio Mismatch (SRM) in A/B testing to ensure that randomization worked correctly—before analyzing test results.Sample Ratio Mismatch (SRM) happens when the observed split between test groups (e.g., A/B) deviates significantly from the expected ratio (e.g., 50/50)\n",
    "\n",
    "Why It Matters ?\\\n",
    "🔍 Detects randomization issues \\\n",
    "🛠️ Catches setup bugs (e.g., traffic filters, rollout errors) \\\n",
    "⚠️ Prevents biased results due to uneven group composition\\\n",
    "\n",
    "we run a chi-square test for proportions:\n",
    "\n",
    "Null hypothesis: Observed group sizes = expected group sizes\n",
    "\n",
    "If p-value is very small (e.g. < 0.01), you reject the null and declare an SRM."
   ]
  },
  {
   "cell_type": "code",
   "execution_count": 9,
   "id": "56366cc8",
   "metadata": {},
   "outputs": [
    {
     "name": "stdout",
     "output_type": "stream",
     "text": [
      "\n",
      "SRM\n",
      "p-value: 0.8524\n",
      "Simple Ration Mismatch (SRM) likely not be present\n"
     ]
    }
   ],
   "source": [
    "# sanity check - Sample Ratio Mismatch (SRM)\n",
    "n = sessions_x_users.shape[0] # Total sample size\n",
    "srm_chi2_stat, srm_chi2_pval = chisquare(f_obs = groups_count, f_exp = (n/2, n/2))\n",
    "srm_chi2_pval = round(srm_chi2_pval, 4)\n",
    "print(f'\\nSRM\\np-value: {srm_chi2_pval}') \n",
    "\n",
    "# If p < alpha, there's likely a sampling issue issue\n",
    "if srm_chi2_pval < 0.01:\n",
    "    print (\"Simple Ration Mismatch (SRM) maybe be present\")\n",
    "else:\n",
    "    print (\"Simple Ration Mismatch (SRM) likely not be present\")"
   ]
  },
  {
   "cell_type": "markdown",
   "id": "04205a1c",
   "metadata": {},
   "source": [
    "We will comute Z-test for proportions. Why use Z-test in this case? Why estimate the effect size? Explain both"
   ]
  },
  {
   "cell_type": "code",
   "execution_count": 10,
   "id": "b78add19",
   "metadata": {},
   "outputs": [
    {
     "data": {
      "text/plain": [
       "np.float64(0.0002)"
      ]
     },
     "execution_count": 10,
     "metadata": {},
     "output_type": "execute_result"
    }
   ],
   "source": [
    "# Count the number of conversions and total observations in each group\n",
    "grouped_data = sessions_x_users.groupby('experiment_group')['conversion'].agg(['sum', 'count'])\n",
    "\n",
    "# Perform the Z-test for proportions\n",
    "z_stat, pval_primary = proportions_ztest(count=grouped_data['sum'], nobs=grouped_data['count'], alternative='two-sided')\n",
    "\n",
    "# Save the p-value rounded to 4 decimals\n",
    "pval_primary = round(pval_primary, 4)\n",
    "\n",
    "pval_primary"
   ]
  },
  {
   "cell_type": "code",
   "execution_count": 11,
   "id": "5e0e77a7",
   "metadata": {},
   "outputs": [
    {
     "name": "stdout",
     "output_type": "stream",
     "text": [
      "\n",
      "Primary metric\n",
      "p-value:  0.0002 | effect size:  0.1422\n"
     ]
    }
   ],
   "source": [
    "avg_metric_per_group = sessions_x_users.groupby('experiment_group')['conversion'].mean()\n",
    "effect_size = avg_metric_per_group['variant'] / avg_metric_per_group['control'] - 1\n",
    "\n",
    "effect_size_primary = round(effect_size, 4)\n",
    "print(f'\\nPrimary metric\\np-value: {pval_primary: .4f} | effect size: {effect_size_primary: .4f}') "
   ]
  },
  {
   "cell_type": "code",
   "execution_count": 12,
   "id": "737480df",
   "metadata": {},
   "outputs": [
    {
     "data": {
      "text/plain": [
       "np.float64(0.5365)"
      ]
     },
     "execution_count": 12,
     "metadata": {},
     "output_type": "execute_result"
    }
   ],
   "source": [
    "# EFFECT ANALYSIS - GUARDRAIL METRIC\n",
    "# T-test on time to booking for control vs variant\n",
    "stats_guardrail = ttest(\n",
    "    sessions_x_users.loc[(sessions_x_users['experiment_group'] == 'control'), 'time_to_booking'],\n",
    "    sessions_x_users.loc[(sessions_x_users['experiment_group'] == 'variant'), 'time_to_booking'],\n",
    "    alternative='two-sided',\n",
    ")\n",
    "pval_guardrail, tstat_guardrail = stats_guardrail['p-val'].values[0], stats_guardrail['T'].values[0]\n",
    "pval_guardrail = round(pval_guardrail, 4)\n",
    "pval_guardrail\n"
   ]
  },
  {
   "cell_type": "code",
   "execution_count": 13,
   "id": "230c5267",
   "metadata": {},
   "outputs": [
    {
     "name": "stdout",
     "output_type": "stream",
     "text": [
      "\n",
      "Guardrail\n",
      "p-value: 0.5365 | effect size: -0.0079\n"
     ]
    }
   ],
   "source": [
    "# Estimate effect size for the guardrail metric\n",
    "\n",
    "avg_metric_per_group = sessions_x_users.groupby('experiment_group')['time_to_booking'].mean()\n",
    "effect_size_guardrail = avg_metric_per_group['variant'] / avg_metric_per_group['control'] - 1\n",
    "effect_size_guardrail = round(effect_size_guardrail, 4)\n",
    "print(f'\\nGuardrail\\np-value: {pval_guardrail} | effect size: {effect_size_guardrail}')\n"
   ]
  },
  {
   "cell_type": "code",
   "execution_count": 14,
   "id": "f19282df",
   "metadata": {},
   "outputs": [
    {
     "name": "stdout",
     "output_type": "stream",
     "text": [
      "\n",
      "The experiment results are significantly positive and the guardrail metric was not harmed, we are going full on!\n"
     ]
    }
   ],
   "source": [
    "# DECISION\n",
    "# Primary metric must be statistically significant and show positive effect (increase)\n",
    "criteria_full_on_primary = (pval_primary < alpha) & (effect_size_primary > 0)\n",
    "\n",
    "# Guardrail must either be statistically insignificant or whow positive effect (decrease)\n",
    "criteria_full_on_guardrail = (pval_guardrail > alpha) | (effect_size_guardrail <= 0)\n",
    "\n",
    "# Final launch decision based on both metrics\n",
    "if criteria_full_on_primary and criteria_full_on_guardrail:\n",
    "    decision_full_on = 'Yes'\n",
    "    print('\\nThe experiment results are significantly positive and the guardrail metric was not harmed, we are going full on!')\n",
    "else:\n",
    "    decision_full_on = 'No'\n",
    "    print('\\nThe experiment results are inconclusive or the guardrail metric was harmed, we are pulling back!')"
   ]
  }
 ],
 "metadata": {
  "colab": {
   "name": "Welcome to DataCamp Workspaces.ipynb",
   "provenance": []
  },
  "editor": "DataLab",
  "kernelspec": {
   "display_name": "Python 3",
   "language": "python",
   "name": "python3"
  },
  "language_info": {
   "codemirror_mode": {
    "name": "ipython",
    "version": 3
   },
   "file_extension": ".py",
   "mimetype": "text/x-python",
   "name": "python",
   "nbconvert_exporter": "python",
   "pygments_lexer": "ipython3",
   "version": "3.11.9"
  }
 },
 "nbformat": 4,
 "nbformat_minor": 5
}
